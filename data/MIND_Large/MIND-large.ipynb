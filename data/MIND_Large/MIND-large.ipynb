{
 "cells": [
  {
   "cell_type": "code",
   "execution_count": 1,
   "id": "e47cdd78",
   "metadata": {},
   "outputs": [],
   "source": [
    "import numpy as np\n",
    "import pandas as pd\n",
    "import os\n",
    "import sys\n",
    "import zipfile\n",
    "import subprocess\n",
    "\n",
    "from matplotlib import pyplot as plt\n",
    "import seaborn as sns\n",
    "from datetime import datetime, timedelta\n",
    "from scipy import stats\n",
    "from tqdm.notebook import tqdm\n",
    "from copy import deepcopy\n",
    "\n",
    "import json"
   ]
  },
  {
   "cell_type": "code",
   "execution_count": 2,
   "id": "c251b774",
   "metadata": {},
   "outputs": [],
   "source": [
    "DATASET = 'MIND_large' \n",
    "RAW_PATH = os.path.join('./', DATASET)\n",
    "\n",
    "RANDOM_SEED = 0\n",
    "NEG_ITEMS = 99"
   ]
  },
  {
   "cell_type": "markdown",
   "id": "a441d7b0",
   "metadata": {},
   "source": [
    "# Load data\n",
    "\n",
    "1. Load interaction data and item metadata\n",
    "2. Filter out items with less than 5 interactions\n",
    "3. Calculate basic statistics"
   ]
  },
  {
   "cell_type": "code",
   "execution_count": 4,
   "id": "47ed3175",
   "metadata": {},
   "outputs": [
    {
     "name": "stdout",
     "output_type": "stream",
     "text": [
      "Unzip files...\n",
      "Extract behaviors.tsv\n"
     ]
    }
   ],
   "source": [
    "# Please download the training and validation set from https://msnews.github.io/\n",
    "# and copy MINDlarge.zip and MINDlarge_dev.zip to the *MIND_large* dir\n",
    "print('Unzip files...')\n",
    "f = zipfile.ZipFile(os.path.join(RAW_PATH,'MINDlarge.zip'),'r') \n",
    "os.makedirs(os.path.join(RAW_PATH,'train'),exist_ok=True)\n",
    "for file in f.namelist():\n",
    "    print(\"Extract %s\"%(file))\n",
    "    f.extract(file,os.path.join(RAW_PATH,'train'))\n",
    "f.close()"
   ]
  },
  {
   "cell_type": "code",
   "execution_count": 6,
   "id": "8f3f22ee",
   "metadata": {},
   "outputs": [
    {
     "name": "stdout",
     "output_type": "stream",
     "text": [
      "Extract __placeholder__\n",
      "Extract behaviors.tsv\n",
      "Extract entity_embedding.vec\n",
      "Extract news.tsv\n",
      "Extract relation_embedding.vec\n"
     ]
    }
   ],
   "source": [
    "f = zipfile.ZipFile(os.path.join(RAW_PATH,'MINDlarge_dev.zip'),'r') \n",
    "os.makedirs(os.path.join(RAW_PATH,'dev'),exist_ok=True)\n",
    "for file in f.namelist():\n",
    "    print(\"Extract %s\"%(file))\n",
    "    f.extract(file,os.path.join(RAW_PATH,'dev'))\n",
    "f.close()"
   ]
  },
  {
   "cell_type": "code",
   "execution_count": 19,
   "id": "2bdf8ec2",
   "metadata": {
    "scrolled": true
   },
   "outputs": [
    {
     "data": {
      "application/vnd.jupyter.widget-view+json": {
       "model_id": "b89ddcf2a6214e55b75414ea26dd9fdf",
       "version_major": 2,
       "version_minor": 0
      },
      "text/plain": [
       "0it [00:00, ?it/s]"
      ]
     },
     "metadata": {},
     "output_type": "display_data"
    },
    {
     "data": {
      "application/vnd.jupyter.widget-view+json": {
       "model_id": "972177bfdf194cc7bd2746c59de50307",
       "version_major": 2,
       "version_minor": 0
      },
      "text/plain": [
       "0it [00:00, ?it/s]"
      ]
     },
     "metadata": {},
     "output_type": "display_data"
    }
   ],
   "source": [
    "# read interaction data\n",
    "interactions = []\n",
    "user_freq, item_freq = dict(), dict()\n",
    "for d in [os.path.join(RAW_PATH,'train'),os.path.join(RAW_PATH,'dev')]:\n",
    "    file = os.path.join(d,\"behaviors.tsv\")\n",
    "    with open(file) as F:\n",
    "        for line in tqdm(F):\n",
    "            line = line.strip().split(\"\\t\")\n",
    "            sid, uid, time = line[0], line[1], line[2]\n",
    "            impressions = line[4].split(\" \")\n",
    "            for imp in impressions:\n",
    "                iid, label = imp.split(\"-\")\n",
    "                interactions.append([sid,uid,time,iid,label])\n",
    "                if int(label)==1:\n",
    "                    user_freq[uid] = user_freq.get(uid,0)+1\n",
    "                    item_freq[iid] = item_freq.get(iid,0)+1"
   ]
  },
  {
   "cell_type": "code",
   "execution_count": 20,
   "id": "e8127286",
   "metadata": {},
   "outputs": [],
   "source": [
    "interactions_original = interactions.copy()"
   ]
  },
  {
   "cell_type": "code",
   "execution_count": 21,
   "id": "ef143018",
   "metadata": {
    "scrolled": true
   },
   "outputs": [
    {
     "name": "stdout",
     "output_type": "stream",
     "text": [
      "User: 270632/750434, Item: 10324/19206\n"
     ]
    },
    {
     "data": {
      "application/vnd.jupyter.widget-view+json": {
       "model_id": "9c9c7f453c7b45a3bc048dacb98d802d",
       "version_major": 2,
       "version_minor": 0
      },
      "text/plain": [
       "  0%|          | 0/97592931 [00:00<?, ?it/s]"
      ]
     },
     "metadata": {},
     "output_type": "display_data"
    },
    {
     "name": "stdout",
     "output_type": "stream",
     "text": [
      "User: 269595/270630, Item: 9403/10324\n"
     ]
    },
    {
     "data": {
      "application/vnd.jupyter.widget-view+json": {
       "model_id": "c3cf8764662c46389ff2ae18eaefec42",
       "version_major": 2,
       "version_minor": 0
      },
      "text/plain": [
       "  0%|          | 0/68772445 [00:00<?, ?it/s]"
      ]
     },
     "metadata": {},
     "output_type": "display_data"
    },
    {
     "name": "stdout",
     "output_type": "stream",
     "text": [
      "User: 269326/269595, Item: 9377/9403\n"
     ]
    },
    {
     "data": {
      "application/vnd.jupyter.widget-view+json": {
       "model_id": "78eac4eac8c04f9f90b0a1f32ff66e31",
       "version_major": 2,
       "version_minor": 0
      },
      "text/plain": [
       "  0%|          | 0/68492188 [00:00<?, ?it/s]"
      ]
     },
     "metadata": {},
     "output_type": "display_data"
    },
    {
     "name": "stdout",
     "output_type": "stream",
     "text": [
      "User: 269314/269326, Item: 9372/9377\n"
     ]
    },
    {
     "data": {
      "application/vnd.jupyter.widget-view+json": {
       "model_id": "2a877eb7d7f647668ed74247990730dc",
       "version_major": 2,
       "version_minor": 0
      },
      "text/plain": [
       "  0%|          | 0/68448158 [00:08<?, ?it/s]"
      ]
     },
     "metadata": {},
     "output_type": "display_data"
    },
    {
     "name": "stdout",
     "output_type": "stream",
     "text": [
      "User: 269311/269314, Item: 9372/9372\n"
     ]
    },
    {
     "data": {
      "application/vnd.jupyter.widget-view+json": {
       "model_id": "79292cddb4d3422ca1516ea8d43703e5",
       "version_major": 2,
       "version_minor": 0
      },
      "text/plain": [
       "  0%|          | 0/68446158 [00:00<?, ?it/s]"
      ]
     },
     "metadata": {},
     "output_type": "display_data"
    },
    {
     "name": "stdout",
     "output_type": "stream",
     "text": [
      "User: 269311/269311, Item: 9372/9372\n",
      "Selected Interactions: 68445757, Users: 269311, Items: 9372\n"
     ]
    }
   ],
   "source": [
    "# 5-core filtering\n",
    "select_uid, select_iid = [],[]\n",
    "for u in user_freq:\n",
    "    if user_freq[u]>=5:\n",
    "        select_uid.append(u)\n",
    "for i in item_freq:\n",
    "    if item_freq[i]>=5:\n",
    "        select_iid.append(i)\n",
    "print(\"User: %d/%d, Item: %d/%d\"%(len(select_uid),len(user_freq),len(select_iid),len(item_freq)))\n",
    "\n",
    "while len(select_uid)<len(user_freq) or len(select_iid)<len(item_freq):\n",
    "    select_uid = set(select_uid)\n",
    "    select_iid = set(select_iid)\n",
    "    user_freq, item_freq = dict(), dict()\n",
    "    interactions_5core = []\n",
    "    for line in tqdm(interactions):\n",
    "        uid, iid, label = line[1], line[3], line[-1]\n",
    "        if uid in select_uid and iid in select_iid:\n",
    "            interactions_5core.append(line)\n",
    "            if int(label)==1:\n",
    "                user_freq[uid] = user_freq.get(uid,0)+1\n",
    "                item_freq[iid] = item_freq.get(iid,0)+1\n",
    "    interactions = interactions_5core\n",
    "    select_uid, select_iid = [],[]\n",
    "    for u in user_freq:\n",
    "        if user_freq[u]>=5:\n",
    "            select_uid.append(u)\n",
    "    for i in item_freq:\n",
    "        if item_freq[i]>=5:\n",
    "            select_iid.append(i)\n",
    "    print(\"User: %d/%d, Item: %d/%d\"%(len(select_uid),len(user_freq),len(select_iid),len(item_freq)))\n",
    "\n",
    "print(\"Selected Interactions: %d, Users: %d, Items: %d\"%(len(interactions),len(select_uid),len(select_iid)))"
   ]
  },
  {
   "cell_type": "code",
   "execution_count": 23,
   "id": "6fe36067",
   "metadata": {},
   "outputs": [],
   "source": [
    "# exclude illegal interactions\n",
    "for i in range(len(interactions)):\n",
    "    if len(interactions[i])>5:\n",
    "        interactions[i] = interactions[i][:-1]"
   ]
  },
  {
   "cell_type": "code",
   "execution_count": 25,
   "id": "791906a8",
   "metadata": {},
   "outputs": [
    {
     "data": {
      "application/vnd.jupyter.widget-view+json": {
       "model_id": "b7c529e7dd6d469887709bbd27e0f4d4",
       "version_major": 2,
       "version_minor": 0
      },
      "text/plain": [
       "  0%|          | 0/68445757 [00:00<?, ?it/s]"
      ]
     },
     "metadata": {},
     "output_type": "display_data"
    }
   ],
   "source": [
    "# Get timestamp\n",
    "format_t = '%m/%d/%Y %I:%M:%S %p'\n",
    "ts, time = [], []\n",
    "for i in tqdm(range(len(interactions))):\n",
    "    t = datetime.strptime(interactions[i][2],format_t)\n",
    "    ts.append(t)\n",
    "    time.append(t.timestamp())"
   ]
  },
  {
   "cell_type": "code",
   "execution_count": 27,
   "id": "9fd33b05",
   "metadata": {},
   "outputs": [],
   "source": [
    "# Construct 5 core results with situation context\n",
    "interaction_df = pd.DataFrame(interactions,columns = [\"session_id\",\"user_id\",\"time_str\",\"news_id\",\"label\"])\n",
    "interaction_df['time'] = time\n",
    "interaction_df['timestamp'] = ts\n",
    "interaction_df['hour'] = interaction_df['timestamp'].apply(lambda x: x.hour)\n",
    "interaction_df['weekday'] = interaction_df['timestamp'].apply(lambda x: x.weekday())\n",
    "interaction_df['date'] = interaction_df['timestamp'].apply(lambda x: x.date())\n",
    "\n",
    "def get_time_range(hour): # according to the Britannica dictionary\n",
    "    # https://www.britannica.com/dictionary/eb/qa/parts-of-the-day-early-morning-late-morning-etc\n",
    "    if hour>=5 and hour<=8:\n",
    "        return 0\n",
    "    if hour>8 and hour<11:\n",
    "        return 1\n",
    "    if hour>=11 and hour<=12:\n",
    "        return 2\n",
    "    if hour>12 and hour<=15:\n",
    "        return 3\n",
    "    if hour>15 and hour<=17:\n",
    "        return 4\n",
    "    if hour>=18 and hour<=19:\n",
    "        return 5\n",
    "    if hour>19 and hour<=21:\n",
    "        return 6\n",
    "    if hour>21:\n",
    "        return 7\n",
    "    return 8 # 0-4 am\n",
    "\n",
    "interaction_df['period'] = interaction_df.hour.apply(lambda x: get_time_range(x))\n",
    "min_date = interaction_df.date.min()\n",
    "interaction_df['day'] = (interaction_df.date - min_date).apply(lambda x: x.days)"
   ]
  },
  {
   "cell_type": "code",
   "execution_count": 28,
   "id": "52cf7136",
   "metadata": {},
   "outputs": [],
   "source": [
    "# Save 5-core interactions\n",
    "interaction_df.to_csv(\"interaction_5core.csv\",index=False)"
   ]
  },
  {
   "cell_type": "markdown",
   "id": "cee70fad",
   "metadata": {},
   "source": [
    "----\n",
    "# Prepare data for CTR & Reranking task\n",
    "\n",
    "1. Rename and organize all interaction features\n",
    "2. Split dataset into training, validation, and test; Save interaction files (same time indicates same impression)\n",
    "3. Organize item metadata"
   ]
  },
  {
   "cell_type": "code",
   "execution_count": 4,
   "id": "eeb124c3",
   "metadata": {},
   "outputs": [],
   "source": [
    "CTR_PATH='./MINDCTR/'\n",
    "os.makedirs(CTR_PATH,exist_ok=True)"
   ]
  },
  {
   "cell_type": "code",
   "execution_count": 5,
   "id": "746ae500",
   "metadata": {},
   "outputs": [],
   "source": [
    "# copy interaction file, rename and re-id all features\n",
    "interaction_ctr = interaction_df.copy()\n",
    "interaction_ctr.rename(columns={'hour':'c_hour_c','weekday':'c_weekday_c','period':'c_period_c','day':'c_day_f',\n",
    "                              'user_id':'original_user_id'},\n",
    "                     inplace=True)\n",
    "user2newid_ctr = dict(zip(sorted(interaction_ctr.original_user_id.unique()), \n",
    "                      range(1,interaction_ctr.original_user_id.nunique()+1)))\n",
    "interaction_ctr['user_id'] = interaction_ctr.original_user_id.apply(lambda x: user2newid_ctr[x])\n",
    "\n",
    "item2newid_ctr = dict(zip(sorted(interaction_ctr.news_id.unique()), \n",
    "                      range(1,interaction_ctr.news_id.nunique()+1)))\n",
    "interaction_ctr['item_id'] = interaction_ctr['news_id'].apply(lambda x: item2newid_ctr[x])\n",
    "interaction_ctr.sort_values(by=['user_id','time'],inplace=True)\n",
    "interaction_ctr = interaction_ctr.reset_index(drop=True)\n",
    "\n",
    "json.dump(user2newid_ctr,open(os.path.join(CTR_PATH,\"user2newid.json\"),'w'))\n",
    "json.dump(item2newid_ctr,open(os.path.join(CTR_PATH,\"item2newid.json\"),'w'))"
   ]
  },
  {
   "cell_type": "code",
   "execution_count": 6,
   "id": "022c3d8b",
   "metadata": {
    "scrolled": true
   },
   "outputs": [
    {
     "name": "stdout",
     "output_type": "stream",
     "text": [
      "c_hour_c 24\n",
      "c_weekday_c 7\n",
      "c_period_c 9\n",
      "c_day_f 7\n",
      "user_id 269311\n",
      "item_id 9372\n"
     ]
    }
   ],
   "source": [
    "# Count statistics\n",
    "for col in interaction_ctr.columns:\n",
    "    if col in ['user_id','item_id'] or col.startswith('c_'):\n",
    "        print(col, interaction_ctr[col].nunique())"
   ]
  },
  {
   "cell_type": "code",
   "execution_count": 7,
   "id": "5a65c78a",
   "metadata": {},
   "outputs": [
    {
     "name": "stdout",
     "output_type": "stream",
     "text": [
      "Train user: 267745, item: 8899\n",
      "Validation user: 90543, item:2780\n",
      "Test user: 83952, item:2351\n"
     ]
    }
   ],
   "source": [
    "# split training, validation, and test sets.\n",
    "split_time1 = 5\n",
    "train = interaction_ctr.loc[interaction_ctr.c_day_f<=split_time1].copy()\n",
    "val_test = interaction_ctr.loc[(interaction_ctr.c_day_f>split_time1)].copy()\n",
    "val_test.sort_values(by='time',inplace=True)\n",
    "sessionbyTime = []\n",
    "last_s = -1\n",
    "for s in val_test.session_id:\n",
    "    if s!=last_s:\n",
    "        sessionbyTime.append(s)\n",
    "        last_s = s\n",
    "val = val_test.loc[val_test.session_id.isin(sessionbyTime[:len(sessionbyTime)//2])].copy()\n",
    "test = val_test.loc[val_test.session_id.isin(sessionbyTime[len(sessionbyTime)//2:])].copy()\n",
    "\n",
    "# Delete user&item in validation&test sets that not exist in training set\n",
    "train_u, train_i = set(train.user_id.unique()), set(train.item_id.unique())\n",
    "val_sel = val.loc[(val.user_id.isin(train_u))&(val.item_id.isin(train_i))].copy()\n",
    "test_sel = test.loc[(test.user_id.isin(train_u))&(test.item_id.isin(train_i))].copy()\n",
    "print(\"Train user: %d, item: %d\"%(len(train_u),len(train_i)))\n",
    "print(\"Validation user: %d, item:%d\"%(val_sel.user_id.nunique(),val_sel.item_id.nunique()))\n",
    "print(\"Test user: %d, item:%d\"%(test_sel.user_id.nunique(),test_sel.item_id.nunique()))"
   ]
  },
  {
   "cell_type": "code",
   "execution_count": 8,
   "id": "85cf4bb8",
   "metadata": {},
   "outputs": [],
   "source": [
    "# Save interaction data\n",
    "select_columns = ['user_id','item_id','time','label','c_hour_c','c_weekday_c','c_period_c','c_day_f']\n",
    "train[select_columns].to_csv(os.path.join(CTR_PATH,'train.csv'),sep=\"\\t\",index=False)\n",
    "val_sel[select_columns].to_csv(os.path.join(CTR_PATH,'dev.csv'),sep=\"\\t\",index=False)\n",
    "test_sel[select_columns].to_csv(os.path.join(CTR_PATH,'test.csv'),sep=\"\\t\",index=False)"
   ]
  },
  {
   "cell_type": "code",
   "execution_count": 9,
   "id": "c97e990d",
   "metadata": {},
   "outputs": [],
   "source": [
    "# organize & save item metadata\n",
    "item_meta_train = pd.read_csv(os.path.join(RAW_PATH,'train',\"news.tsv\"),sep=\"\\t\",header=None)\n",
    "item_meta_train.columns = ['news_id','category','subcategory','title','abstract','url','title_entitiy','abstract_entity']\n",
    "item_select = item_meta_train.loc[item_meta_train.news_id.isin(interaction_ctr.news_id.unique())].copy()\n",
    "item_select['item_id'] = item_select.news_id.apply(lambda x: item2newid_ctr[x])\n",
    "category2id = dict(zip(sorted(item_select.category.unique()),range(1,item_select.category.nunique()+1)))\n",
    "subcategory2id = dict(zip(sorted(item_select.subcategory.unique()),range(1,item_select.subcategory.nunique()+1)))\n",
    "item_select['i_category_c'] = item_select['category'].apply(lambda x: category2id[x])\n",
    "item_select['i_subcategory_c'] = item_select['subcategory'].apply(lambda x: subcategory2id[x])\n",
    "item_select[['item_id','i_category_c','i_subcategory_c']].to_csv(\n",
    "    os.path.join(CTR_PATH,'item_meta.csv'),sep=\"\\t\",index=False)"
   ]
  },
  {
   "cell_type": "markdown",
   "id": "59eaf159",
   "metadata": {},
   "source": [
    "# Prepare data for Top-k Recommendation Task\n",
    "1. Rename all interaction features\n",
    "2. Split dataset into training, validation, and test\n",
    "3. Re-assign IDs to user, item, and context; Save interaction files\n",
    "4. Organize item metadata"
   ]
  },
  {
   "cell_type": "code",
   "execution_count": 10,
   "id": "56e4bbe5",
   "metadata": {},
   "outputs": [],
   "source": [
    "TOPK_PATH='./MINDTOPK/'\n",
    "os.makedirs(TOPK_PATH,exist_ok=True)"
   ]
  },
  {
   "cell_type": "code",
   "execution_count": 21,
   "id": "a8aadb00",
   "metadata": {},
   "outputs": [],
   "source": [
    "interaction_df = pd.read_csv(\"interaction_5core.csv\")"
   ]
  },
  {
   "cell_type": "code",
   "execution_count": 22,
   "id": "210be2bc",
   "metadata": {},
   "outputs": [
    {
     "data": {
      "text/html": [
       "<div>\n",
       "<style scoped>\n",
       "    .dataframe tbody tr th:only-of-type {\n",
       "        vertical-align: middle;\n",
       "    }\n",
       "\n",
       "    .dataframe tbody tr th {\n",
       "        vertical-align: top;\n",
       "    }\n",
       "\n",
       "    .dataframe thead th {\n",
       "        text-align: right;\n",
       "    }\n",
       "</style>\n",
       "<table border=\"1\" class=\"dataframe\">\n",
       "  <thead>\n",
       "    <tr style=\"text-align: right;\">\n",
       "      <th></th>\n",
       "      <th>session_id</th>\n",
       "      <th>user_id</th>\n",
       "      <th>time_str</th>\n",
       "      <th>news_id</th>\n",
       "      <th>label</th>\n",
       "      <th>time</th>\n",
       "      <th>timestamp</th>\n",
       "      <th>hour</th>\n",
       "      <th>weekday</th>\n",
       "      <th>date</th>\n",
       "      <th>period</th>\n",
       "      <th>day</th>\n",
       "    </tr>\n",
       "  </thead>\n",
       "  <tbody>\n",
       "    <tr>\n",
       "      <th>0</th>\n",
       "      <td>1</td>\n",
       "      <td>U87243</td>\n",
       "      <td>11/10/2019 11:30:54 AM</td>\n",
       "      <td>N78206</td>\n",
       "      <td>0</td>\n",
       "      <td>1.573357e+09</td>\n",
       "      <td>2019-11-10 11:30:54</td>\n",
       "      <td>11</td>\n",
       "      <td>6</td>\n",
       "      <td>2019-11-10</td>\n",
       "      <td>2</td>\n",
       "      <td>1</td>\n",
       "    </tr>\n",
       "    <tr>\n",
       "      <th>1</th>\n",
       "      <td>1</td>\n",
       "      <td>U87243</td>\n",
       "      <td>11/10/2019 11:30:54 AM</td>\n",
       "      <td>N26368</td>\n",
       "      <td>0</td>\n",
       "      <td>1.573357e+09</td>\n",
       "      <td>2019-11-10 11:30:54</td>\n",
       "      <td>11</td>\n",
       "      <td>6</td>\n",
       "      <td>2019-11-10</td>\n",
       "      <td>2</td>\n",
       "      <td>1</td>\n",
       "    </tr>\n",
       "  </tbody>\n",
       "</table>\n",
       "</div>"
      ],
      "text/plain": [
       "   session_id user_id                time_str news_id  label          time  \\\n",
       "0           1  U87243  11/10/2019 11:30:54 AM  N78206      0  1.573357e+09   \n",
       "1           1  U87243  11/10/2019 11:30:54 AM  N26368      0  1.573357e+09   \n",
       "\n",
       "             timestamp  hour  weekday        date  period  day  \n",
       "0  2019-11-10 11:30:54    11        6  2019-11-10       2    1  \n",
       "1  2019-11-10 11:30:54    11        6  2019-11-10       2    1  "
      ]
     },
     "execution_count": 22,
     "metadata": {},
     "output_type": "execute_result"
    }
   ],
   "source": [
    "interaction_df.head(2)"
   ]
  },
  {
   "cell_type": "code",
   "execution_count": 23,
   "id": "baf110fd",
   "metadata": {},
   "outputs": [],
   "source": [
    "# copy & rename columns\n",
    "interaction_pos = interaction_df.loc[interaction_df.label==1].copy() # retain positive interactions\n",
    "interaction_pos.rename(columns={'hour':'c_hour_c','weekday':'c_weekday_c','period':'c_period_c','day':'c_day_f',\n",
    "                              'user_id':'original_user_id'}, inplace=True)"
   ]
  },
  {
   "cell_type": "code",
   "execution_count": 28,
   "id": "2bf648ed",
   "metadata": {},
   "outputs": [
    {
     "name": "stdout",
     "output_type": "stream",
     "text": [
      "Train user: 267742, item: 8572\n",
      "Validation user: 84375, item:1302\n",
      "Test user: 58164, item:931\n"
     ]
    }
   ],
   "source": [
    "# split training, validation, and test sets.\n",
    "split_time1 = 5\n",
    "train = interaction_pos.loc[interaction_pos.c_day_f<=split_time1].copy()\n",
    "val_test = interaction_pos.loc[(interaction_pos.c_day_f>split_time1)].copy()\n",
    "val_test.sort_values(by='time',inplace=True)\n",
    "sessionbyTime = []\n",
    "last_s = -1\n",
    "for s in val_test.session_id:\n",
    "    if s!=last_s:\n",
    "        sessionbyTime.append(s)\n",
    "        last_s = s\n",
    "val = val_test.loc[val_test.session_id.isin(sessionbyTime[:len(sessionbyTime)//2])].copy()\n",
    "test = val_test.loc[val_test.session_id.isin(sessionbyTime[len(sessionbyTime)//2:])].copy()\n",
    "\n",
    "# Delete user&item in validation&test sets that not exist in training set\n",
    "train_u, train_i = set(train.original_user_id.unique()), set(train.news_id.unique())\n",
    "val_sel = val.loc[(val.original_user_id.isin(train_u))&(val.news_id.isin(train_i))].copy()\n",
    "test_sel = test.loc[(test.original_user_id.isin(train_u))&(test.news_id.isin(train_i))].copy()\n",
    "print(\"Train user: %d, item: %d\"%(len(train_u),len(train_i)))\n",
    "print(\"Validation user: %d, item:%d\"%(val_sel.original_user_id.nunique(),val_sel.news_id.nunique()))\n",
    "print(\"Test user: %d, item:%d\"%(test_sel.original_user_id.nunique(),test_sel.news_id.nunique()))"
   ]
  },
  {
   "cell_type": "code",
   "execution_count": 29,
   "id": "d405fb74",
   "metadata": {},
   "outputs": [],
   "source": [
    "# Assign ids for users and items (to generate continous ids)\n",
    "all_df = pd.concat([train,val_sel,test_sel],axis=0)\n",
    "user2newid_topk = dict(zip(sorted(all_df.original_user_id.unique()), \n",
    "                      range(1,all_df.original_user_id.nunique()+1)))\n",
    " \n",
    "for df in [train,val_sel,test_sel]:\n",
    "    df['user_id'] = df.original_user_id.apply(lambda x: user2newid_topk[x])\n",
    "\n",
    "item2newid_topk = dict(zip(sorted(all_df.news_id.unique()), \n",
    "                      range(1,all_df.news_id.nunique()+1)))\n",
    "for df in [train,val_sel,test_sel]:\n",
    "    df['item_id'] = df['news_id'].apply(lambda x: item2newid_topk[x])\n",
    "\n",
    "all_df['user_id'] = all_df.original_user_id.apply(lambda x: user2newid_topk[x])\n",
    "all_df['item_id'] = all_df['news_id'].apply(lambda x: item2newid_topk[x])\n",
    "\n",
    "json.dump(user2newid_topk,open(os.path.join(TOPK_PATH,\"user2newid.json\"),'w'))\n",
    "json.dump(item2newid_topk,open(os.path.join(TOPK_PATH,\"item2newid.json\"),'w'))"
   ]
  },
  {
   "cell_type": "code",
   "execution_count": 30,
   "id": "d11cbd5c",
   "metadata": {
    "scrolled": true
   },
   "outputs": [
    {
     "data": {
      "application/vnd.jupyter.widget-view+json": {
       "model_id": "f0c103494d9843d8971af83b2f9194ae",
       "version_major": 2,
       "version_minor": 0
      },
      "text/plain": [
       "0it [00:00, ?it/s]"
      ]
     },
     "metadata": {},
     "output_type": "display_data"
    },
    {
     "data": {
      "application/vnd.jupyter.widget-view+json": {
       "model_id": "106995aecc4143b290bcdda894e3bccb",
       "version_major": 2,
       "version_minor": 0
      },
      "text/plain": [
       "0it [00:00, ?it/s]"
      ]
     },
     "metadata": {},
     "output_type": "display_data"
    }
   ],
   "source": [
    "# generate negative items\n",
    "def generate_negative(data_df,all_items,clicked_item_set,random_seed,neg_item_num=99):\n",
    "    np.random.seed(random_seed)\n",
    "    neg_items = np.random.choice(all_items, (len(data_df),neg_item_num))\n",
    "    for i, uid in tqdm(enumerate(data_df['user_id'].values)):\n",
    "        user_clicked = clicked_item_set[uid]\n",
    "        for j in range(len(neg_items[i])):\n",
    "            while neg_items[i][j] in user_clicked|set(neg_items[i][:j]):\n",
    "                neg_items[i][j] = np.random.choice(all_items, 1)\n",
    "    return neg_items.tolist()\n",
    "\n",
    "clicked_item_set = dict()\n",
    "for user_id, seq_df in all_df.groupby('user_id'):\n",
    "    clicked_item_set[user_id] = set(seq_df['item_id'].values.tolist())\n",
    "all_items = all_df.item_id.unique()\n",
    "val_sel['neg_items'] = generate_negative(val_sel,all_items,clicked_item_set,random_seed=1)\n",
    "test_sel['neg_items'] = generate_negative(test_sel,all_items,clicked_item_set,random_seed=2)"
   ]
  },
  {
   "cell_type": "code",
   "execution_count": 31,
   "id": "64009c53",
   "metadata": {},
   "outputs": [],
   "source": [
    "select_columns = ['user_id','item_id','time','c_hour_c','c_weekday_c','c_period_c','c_day_f']\n",
    "train[select_columns].to_csv(os.path.join(TOPK_PATH,'train.csv'),sep=\"\\t\",index=False)\n",
    "val_sel[select_columns+['neg_items']].to_csv(os.path.join(TOPK_PATH,'dev.csv'),sep=\"\\t\",index=False)\n",
    "test_sel[select_columns+['neg_items']].to_csv(os.path.join(TOPK_PATH,'test.csv'),sep=\"\\t\",index=False)"
   ]
  },
  {
   "cell_type": "code",
   "execution_count": null,
   "id": "a2e0cafc",
   "metadata": {
    "scrolled": true
   },
   "outputs": [],
   "source": [
    "# organize & save item metadata\n",
    "item_meta_train = pd.read_csv(os.path.join(RAW_PATH,'train',\"news.tsv\"),sep=\"\\t\",header=None)\n",
    "item_meta_train.columns = ['news_id','category','subcategory','title','abstract','url','title_entitiy','abstract_entity']\n",
    "item_select = item_meta_train.loc[item_meta_train.news_id.isin(all_df.news_id.unique())].copy()\n",
    "item_select['item_id'] = item_select.news_id.apply(lambda x: item2newid_topk[x])\n",
    "category2id = dict(zip(sorted(item_select.category.unique()),range(1,item_select.category.nunique()+1)))\n",
    "subcategory2id = dict(zip(sorted(item_select.subcategory.unique()),range(1,item_select.subcategory.nunique()+1)))\n",
    "item_select['i_category_c'] = item_select['category'].apply(lambda x: category2id[x])\n",
    "item_select['i_subcategory_c'] = item_select['subcategory'].apply(lambda x: subcategory2id[x])\n",
    "item_select[['item_id','i_category_c','i_subcategory_c']].to_csv(\n",
    "    os.path.join(TOPK_PATH,'item_meta.csv'),sep=\"\\t\",index=False)"
   ]
  }
 ],
 "metadata": {
  "kernelspec": {
   "display_name": "Python 3",
   "language": "python",
   "name": "python3"
  },
  "language_info": {
   "codemirror_mode": {
    "name": "ipython",
    "version": 3
   },
   "file_extension": ".py",
   "mimetype": "text/x-python",
   "name": "python",
   "nbconvert_exporter": "python",
   "pygments_lexer": "ipython3",
   "version": "3.6.13"
  }
 },
 "nbformat": 4,
 "nbformat_minor": 5
}
